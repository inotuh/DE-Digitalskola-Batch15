{
  "nbformat": 4,
  "nbformat_minor": 0,
  "metadata": {
    "colab": {
      "provenance": []
    },
    "kernelspec": {
      "name": "python3",
      "display_name": "Python 3"
    },
    "language_info": {
      "name": "python"
    }
  },
  "cells": [
    {
      "cell_type": "code",
      "execution_count": null,
      "metadata": {
        "id": "5TYqc_6nG-0G",
        "outputId": "c44c2921-c349-4a2d-ecec-ab52e6998fff",
        "colab": {
          "base_uri": "https://localhost:8080/"
        }
      },
      "outputs": [
        {
          "output_type": "stream",
          "name": "stdout",
          "text": [
            "Miki bangun\n",
            "Miki tidur\n",
            "None sedang makan\n",
            "Zippy bangun\n",
            "Zippy tidur\n",
            "Lepus europaeus sedang makan\n",
            "Miki berlari sangat cepat\n",
            "Zippy berlari lambat\n"
          ]
        }
      ],
      "source": [
        "class Hewan:\n",
        "    # Class attributes\n",
        "    nama_latin = None\n",
        "\n",
        "    def __init__(self, nama, umur):\n",
        "        # Instance attributes\n",
        "        self.nama = nama\n",
        "        self.umur = umur\n",
        "\n",
        "    def bangun(self):\n",
        "        print(f\"{self.nama} bangun\")\n",
        "\n",
        "    @staticmethod\n",
        "    def tidur():\n",
        "        print(\"Semua hewan tidur\")\n",
        "\n",
        "    @classmethod\n",
        "    def makan(cls):\n",
        "        print(f\"{cls.nama_latin} sedang makan\")\n",
        "\n",
        "class Kucing(Hewan):\n",
        "    # Override method tidur\n",
        "    def tidur(self):\n",
        "        print(f\"{self.nama} tidur\")\n",
        "\n",
        "    # Method lari dengan parameter kecepatan\n",
        "    def lari(self, kecepatan=10):\n",
        "        if kecepatan > 10:\n",
        "            print(f\"{self.nama} berlari sangat cepat\")\n",
        "        else:\n",
        "            print(f\"{self.nama} berlari lambat\")\n",
        "\n",
        "class Kelinci(Hewan):\n",
        "    # Class attribute berbeda\n",
        "    nama_latin = \"Lepus europaeus\"\n",
        "\n",
        "    # Override method tidur\n",
        "    def tidur(self):\n",
        "        print(f\"{self.nama} tidur\")\n",
        "\n",
        "    # Method lari dengan parameter kecepatan\n",
        "    def lari(self, kecepatan=10):\n",
        "        if kecepatan > 10:\n",
        "            print(f\"{self.nama} berlari sangat cepat\")\n",
        "        else:\n",
        "            print(f\"{self.nama} berlari lambat\")\n",
        "\n",
        "# Contoh penggunaan\n",
        "kucing = Kucing(\"Miki\", 5)\n",
        "kelinci = Kelinci(\"Zippy\", 3)\n",
        "\n",
        "kucing.bangun()\n",
        "kucing.tidur()\n",
        "kucing.makan()\n",
        "\n",
        "kelinci.bangun()\n",
        "kelinci.tidur()\n",
        "kelinci.makan()\n",
        "\n",
        "kucing.lari(15)\n",
        "kelinci.lari(8)\n"
      ]
    },
    {
      "cell_type": "code",
      "source": [
        "class Hewan:\n",
        "    # Class attributes\n",
        "    nama_latin = None\n",
        "\n",
        "    def __init__(self, nama, umur):\n",
        "        # Instance attributes\n",
        "        self.nama = nama\n",
        "        self.umur = umur\n",
        "\n",
        "    def bangun(self):\n",
        "        print(f\"{self.nama} bangun\")\n",
        "\n",
        "    @staticmethod\n",
        "    def tidur():\n",
        "        print(\"Semua hewan tidur\")\n",
        "\n",
        "    @classmethod\n",
        "    def makan(cls):\n",
        "        print(f\"{cls.nama_latin} sedang makan\")\n",
        "\n",
        "class Kucing(Hewan):\n",
        "    # Override method tidur\n",
        "    def tidur(self):\n",
        "        print(f\"{self.nama} tidur\")\n",
        "\n",
        "    # Method lari dengan parameter kecepatan\n",
        "    def lari(self, kecepatan=10):\n",
        "        if kecepatan > 10:\n",
        "            print(f\"{self.nama} berlari sangat cepat\")\n",
        "        else:\n",
        "            print(f\"{self.nama} berlari lambat\")\n",
        "\n",
        "class Kelinci(Hewan):\n",
        "    # Class attribute berbeda\n",
        "    nama_latin = \"Lepus europaeus\"\n",
        "\n",
        "    # Override method tidur\n",
        "    def tidur(self):\n",
        "        print(f\"{self.nama} tidur\")\n",
        "\n",
        "    # Method lari dengan parameter kecepatan\n",
        "    def lari(self, kecepatan=10):\n",
        "        if kecepatan > 10:\n",
        "            print(f\"{self.nama} berlari sangat cepat\")\n",
        "        else:\n",
        "            print(f\"{self.nama} berlari lambat\")\n",
        "\n",
        "# Contoh penggunaan\n",
        "kucing = Kucing(\"Miki\", 5)\n",
        "kelinci = Kelinci(\"Zippy\", 3)\n",
        "\n",
        "kucing.bangun()\n",
        "kucing.tidur()\n",
        "kucing.makan()  # Panggil class method dari class Hewan\n",
        "\n",
        "kelinci.bangun()\n",
        "kelinci.tidur()  # Panggil static method dari class Hewan\n",
        "kelinci.makan()  # Panggil class method dari class Hewan\n",
        "\n",
        "kucing.lari(15)\n",
        "kelinci.lari(8)\n"
      ],
      "metadata": {
        "colab": {
          "base_uri": "https://localhost:8080/"
        },
        "id": "rtvbsmG8H9cX",
        "outputId": "fea177b9-56d5-4ed1-edcd-3b9ac6d81473"
      },
      "execution_count": 2,
      "outputs": [
        {
          "output_type": "stream",
          "name": "stdout",
          "text": [
            "Miki bangun\n",
            "Miki tidur\n",
            "None sedang makan\n",
            "Zippy bangun\n",
            "Zippy tidur\n",
            "Lepus europaeus sedang makan\n",
            "Miki berlari sangat cepat\n",
            "Zippy berlari lambat\n"
          ]
        }
      ]
    },
    {
      "cell_type": "code",
      "source": [],
      "metadata": {
        "id": "tOGcoyyBH-ft"
      },
      "execution_count": null,
      "outputs": []
    }
  ]
}